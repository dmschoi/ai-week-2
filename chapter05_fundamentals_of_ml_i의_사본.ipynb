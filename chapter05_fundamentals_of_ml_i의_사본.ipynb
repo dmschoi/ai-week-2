{
  "cells": [
    {
      "cell_type": "markdown",
      "metadata": {
        "id": "view-in-github",
        "colab_type": "text"
      },
      "source": [
        "<a href=\"https://colab.research.google.com/github/dmschoi/ai-week-2/blob/main/chapter05_fundamentals_of_ml_i%EC%9D%98_%EC%82%AC%EB%B3%B8.ipynb\" target=\"_parent\"><img src=\"https://colab.research.google.com/assets/colab-badge.svg\" alt=\"Open In Colab\"/></a>"
      ]
    },
    {
      "cell_type": "markdown",
      "metadata": {
        "id": "049yQYxKlHKB"
      },
      "source": [
        "This is a companion notebook for the book [Deep Learning with Python, Second Edition](https://www.manning.com/books/deep-learning-with-python-second-edition?a_aid=keras&a_bid=76564dff). For readability, it only contains runnable code blocks and section titles, and omits everything else in the book: text paragraphs, figures, and pseudocode.\n",
        "\n",
        "**If you want to be able to follow what's going on, I recommend reading the notebook side by side with your copy of the book.**\n",
        "\n",
        "This notebook was generated for TensorFlow 2.6."
      ]
    },
    {
      "cell_type": "code",
      "source": [],
      "metadata": {
        "id": "E_wl8ABOmmd_"
      },
      "execution_count": null,
      "outputs": []
    },
    {
      "cell_type": "markdown",
      "metadata": {
        "id": "ohkBpnaplHKE"
      },
      "source": [
        "# Fundamentals of machine learning"
      ]
    },
    {
      "cell_type": "markdown",
      "metadata": {
        "id": "hJY8UuI9lHKF"
      },
      "source": [
        "## Generalization: The goal of machine learning"
      ]
    },
    {
      "cell_type": "markdown",
      "metadata": {
        "id": "D_eq637MlHKG"
      },
      "source": [
        "### Underfitting and overfitting"
      ]
    },
    {
      "cell_type": "markdown",
      "metadata": {
        "id": "dfzjOBDzlHKG"
      },
      "source": [
        "#### Noisy training data"
      ]
    },
    {
      "cell_type": "markdown",
      "metadata": {
        "id": "n5XCmIntlHKG"
      },
      "source": [
        "#### Ambiguous features"
      ]
    },
    {
      "cell_type": "markdown",
      "metadata": {
        "id": "J5HyfOdNlHKH"
      },
      "source": [
        "#### Rare features and spurious correlations"
      ]
    },
    {
      "cell_type": "markdown",
      "source": [],
      "metadata": {
        "id": "RdjaOZ-LxDWb"
      }
    },
    {
      "cell_type": "markdown",
      "metadata": {
        "id": "8mauwpRIlHKH"
      },
      "source": [
        "**Adding white-noise channels or all-zeros channels to MNIST**"
      ]
    },
    {
      "cell_type": "code",
      "execution_count": 28,
      "metadata": {
        "id": "2RiLS3LnlHKI"
      },
      "outputs": [],
      "source": [
        "from tensorflow.keras.datasets import mnist\n",
        "import numpy as np\n",
        "\n",
        "(train_images, train_labels), _ = mnist.load_data()\n",
        "train_images = train_images.reshape((60000, 28 * 28))\n",
        "train_images = train_images.astype(\"float32\") / 255\n",
        "\n",
        "train_images_with_noise_channels = np.concatenate(\n",
        "    [train_images, np.random.random((len(train_images), 784))], axis=1)\n",
        "\n",
        "train_images_with_zeros_channels = np.concatenate(\n",
        "    [train_images, np.zeros((len(train_images), 784))], axis=1)"
      ]
    },
    {
      "cell_type": "code",
      "source": [
        "from tensorflow.keras.datasets import mnist\n",
        "import numpy as np\n",
        "\n",
        "(train_images, train_labels), _ = mnist.load_data()\n",
        "train_images = train_images.reshape((60000, 28 * 28))\n",
        "train_images = train_images.astype(\"float32\") / 255\n",
        "\n",
        "train_images_with_noise_channels = np.concatenate(\n",
        "    [train_images, np.random.random((len(train_images), 784))], axis=1)\n",
        "\n",
        "train_images_with_zeros_channels = np.concatenate(\n",
        "    [train_images, np.zeros((len(train_images), 784))], axis=1)"
      ],
      "metadata": {
        "id": "ZD1XATDx8u8r"
      },
      "execution_count": 29,
      "outputs": []
    },
    {
      "cell_type": "markdown",
      "metadata": {
        "id": "Q1jttQgOlHKJ"
      },
      "source": [
        "**Training the same model on MNIST data with noise channels or all-zero channels**"
      ]
    },
    {
      "cell_type": "code",
      "execution_count": 24,
      "metadata": {
        "id": "MBwWFXZplHKJ",
        "colab": {
          "base_uri": "https://localhost:8080/"
        },
        "outputId": "178dd0fb-7a94-4469-b4cc-bb5025f1de74"
      },
      "outputs": [
        {
          "output_type": "stream",
          "name": "stdout",
          "text": [
            "Epoch 1/10\n",
            "375/375 [==============================] - 3s 4ms/step - loss: 0.6284 - accuracy: 0.8082 - val_loss: 0.3437 - val_accuracy: 0.8998\n",
            "Epoch 2/10\n",
            "375/375 [==============================] - 1s 4ms/step - loss: 0.2619 - accuracy: 0.9181 - val_loss: 0.2452 - val_accuracy: 0.9259\n",
            "Epoch 3/10\n",
            "375/375 [==============================] - 1s 3ms/step - loss: 0.1691 - accuracy: 0.9481 - val_loss: 0.1763 - val_accuracy: 0.9463\n",
            "Epoch 4/10\n",
            "375/375 [==============================] - 1s 3ms/step - loss: 0.1228 - accuracy: 0.9622 - val_loss: 0.1293 - val_accuracy: 0.9616\n",
            "Epoch 5/10\n",
            "375/375 [==============================] - 1s 3ms/step - loss: 0.0897 - accuracy: 0.9729 - val_loss: 0.1233 - val_accuracy: 0.9642\n",
            "Epoch 6/10\n",
            "375/375 [==============================] - 1s 4ms/step - loss: 0.0658 - accuracy: 0.9789 - val_loss: 0.1144 - val_accuracy: 0.9678\n",
            "Epoch 7/10\n",
            "375/375 [==============================] - 1s 3ms/step - loss: 0.0496 - accuracy: 0.9845 - val_loss: 0.1288 - val_accuracy: 0.9635\n",
            "Epoch 8/10\n",
            "375/375 [==============================] - 2s 4ms/step - loss: 0.0364 - accuracy: 0.9879 - val_loss: 0.2395 - val_accuracy: 0.9357\n",
            "Epoch 9/10\n",
            "375/375 [==============================] - 2s 4ms/step - loss: 0.0282 - accuracy: 0.9913 - val_loss: 0.1298 - val_accuracy: 0.9689\n",
            "Epoch 10/10\n",
            "375/375 [==============================] - 1s 3ms/step - loss: 0.0199 - accuracy: 0.9944 - val_loss: 0.1988 - val_accuracy: 0.9495\n",
            "Epoch 1/10\n",
            "375/375 [==============================] - 2s 5ms/step - loss: 0.2955 - accuracy: 0.9145 - val_loss: 0.1472 - val_accuracy: 0.9581\n",
            "Epoch 2/10\n",
            "375/375 [==============================] - 2s 4ms/step - loss: 0.1239 - accuracy: 0.9641 - val_loss: 0.1279 - val_accuracy: 0.9628\n",
            "Epoch 3/10\n",
            "375/375 [==============================] - 1s 3ms/step - loss: 0.0808 - accuracy: 0.9758 - val_loss: 0.0873 - val_accuracy: 0.9743\n",
            "Epoch 4/10\n",
            "375/375 [==============================] - 1s 3ms/step - loss: 0.0586 - accuracy: 0.9825 - val_loss: 0.0898 - val_accuracy: 0.9722\n",
            "Epoch 5/10\n",
            "375/375 [==============================] - 1s 3ms/step - loss: 0.0432 - accuracy: 0.9875 - val_loss: 0.0801 - val_accuracy: 0.9756\n",
            "Epoch 6/10\n",
            "375/375 [==============================] - 1s 3ms/step - loss: 0.0331 - accuracy: 0.9905 - val_loss: 0.0783 - val_accuracy: 0.9776\n",
            "Epoch 7/10\n",
            "375/375 [==============================] - 1s 3ms/step - loss: 0.0250 - accuracy: 0.9929 - val_loss: 0.0712 - val_accuracy: 0.9808\n",
            "Epoch 8/10\n",
            "375/375 [==============================] - 1s 3ms/step - loss: 0.0179 - accuracy: 0.9954 - val_loss: 0.0742 - val_accuracy: 0.9804\n",
            "Epoch 9/10\n",
            "375/375 [==============================] - 1s 3ms/step - loss: 0.0140 - accuracy: 0.9964 - val_loss: 0.0796 - val_accuracy: 0.9778\n",
            "Epoch 10/10\n",
            "375/375 [==============================] - 1s 3ms/step - loss: 0.0106 - accuracy: 0.9975 - val_loss: 0.0830 - val_accuracy: 0.9793\n"
          ]
        }
      ],
      "source": [
        "from tensorflow import keras\n",
        "from tensorflow.keras import layers\n",
        "\n",
        "def get_model():\n",
        "    model = keras.Sequential([\n",
        "        layers.Dense(512, activation=\"relu\"),\n",
        "        layers.Dense(10, activation=\"softmax\")\n",
        "    ])\n",
        "    model.compile(optimizer=\"rmsprop\",\n",
        "                  loss=\"sparse_categorical_crossentropy\",\n",
        "                  metrics=[\"accuracy\"])\n",
        "    return model\n",
        "\n",
        "model = get_model()\n",
        "history_noise = model.fit(\n",
        "    train_images_with_noise_channels, train_labels,\n",
        "    epochs=10,\n",
        "    batch_size=128,\n",
        "    validation_split=0.2)\n",
        "\n",
        "model = get_model()\n",
        "history_zeros = model.fit(\n",
        "    train_images_with_zeros_channels, train_labels,\n",
        "    epochs=10,\n",
        "    batch_size=128,\n",
        "    validation_split=0.2)"
      ]
    },
    {
      "cell_type": "code",
      "source": [
        "model3 = get_model()\n",
        "history_original = model3.fit(\n",
        "    train_images, train_labels,\n",
        "    epochs=10,\n",
        "    batch_size=128,\n",
        "    validation_split=0.2)"
      ],
      "metadata": {
        "colab": {
          "base_uri": "https://localhost:8080/"
        },
        "id": "-p0iZ57r5AcE",
        "outputId": "a6d8ec75-265a-4cee-8b32-1a6cd45424cb"
      },
      "execution_count": 25,
      "outputs": [
        {
          "output_type": "stream",
          "name": "stdout",
          "text": [
            "Epoch 1/10\n",
            "375/375 [==============================] - 3s 5ms/step - loss: 0.2954 - accuracy: 0.9159 - val_loss: 0.1557 - val_accuracy: 0.9535\n",
            "Epoch 2/10\n",
            "375/375 [==============================] - 1s 3ms/step - loss: 0.1213 - accuracy: 0.9646 - val_loss: 0.1121 - val_accuracy: 0.9659\n",
            "Epoch 3/10\n",
            "375/375 [==============================] - 1s 3ms/step - loss: 0.0796 - accuracy: 0.9771 - val_loss: 0.1010 - val_accuracy: 0.9706\n",
            "Epoch 4/10\n",
            "375/375 [==============================] - 1s 3ms/step - loss: 0.0570 - accuracy: 0.9825 - val_loss: 0.0812 - val_accuracy: 0.9746\n",
            "Epoch 5/10\n",
            "375/375 [==============================] - 1s 3ms/step - loss: 0.0424 - accuracy: 0.9873 - val_loss: 0.0810 - val_accuracy: 0.9753\n",
            "Epoch 6/10\n",
            "375/375 [==============================] - 1s 3ms/step - loss: 0.0320 - accuracy: 0.9910 - val_loss: 0.0762 - val_accuracy: 0.9777\n",
            "Epoch 7/10\n",
            "375/375 [==============================] - 1s 3ms/step - loss: 0.0244 - accuracy: 0.9932 - val_loss: 0.0801 - val_accuracy: 0.9764\n",
            "Epoch 8/10\n",
            "375/375 [==============================] - 1s 3ms/step - loss: 0.0179 - accuracy: 0.9953 - val_loss: 0.0780 - val_accuracy: 0.9776\n",
            "Epoch 9/10\n",
            "375/375 [==============================] - 1s 3ms/step - loss: 0.0137 - accuracy: 0.9966 - val_loss: 0.0707 - val_accuracy: 0.9807\n",
            "Epoch 10/10\n",
            "375/375 [==============================] - 2s 4ms/step - loss: 0.0104 - accuracy: 0.9977 - val_loss: 0.0828 - val_accuracy: 0.9780\n"
          ]
        }
      ]
    },
    {
      "cell_type": "markdown",
      "metadata": {
        "id": "vmEwpvKYlHKK"
      },
      "source": [
        "**Plotting a validation accuracy comparison**"
      ]
    },
    {
      "cell_type": "code",
      "execution_count": 27,
      "metadata": {
        "id": "fo7rutv4lHKK",
        "colab": {
          "base_uri": "https://localhost:8080/",
          "height": 491
        },
        "outputId": "55607473-bb6c-4e9d-9bbc-b1bac9fab6f3"
      },
      "outputs": [
        {
          "output_type": "execute_result",
          "data": {
            "text/plain": [
              "<matplotlib.legend.Legend at 0x7f4a4c44c9d0>"
            ]
          },
          "metadata": {},
          "execution_count": 27
        },
        {
          "output_type": "display_data",
          "data": {
            "text/plain": [
              "<Figure size 640x480 with 1 Axes>"
            ],
            "image/png": "[encoded data removed]"
          },
          "metadata": {}
        }
      ],
      "source": [
        "import matplotlib.pyplot as plt\n",
        "val_acc_noise = history_noise.history[\"val_accuracy\"]\n",
        "val_acc_zeros = history_zeros.history[\"val_accuracy\"]\n",
        "val_acc_original = history_original.history[\"val_accuracy\"]\n",
        "epochs = range(1, 11)\n",
        "plt.plot(epochs, val_acc_noise, \"b-\",\n",
        "         label=\"Validation accuracy with noise channels\")\n",
        "plt.plot(epochs, val_acc_zeros, \"b--\",\n",
        "         label=\"Validation accuracy with zeros channels\")\n",
        "plt.plot(epochs, val_acc_original, \"b--\",\n",
        "         label=\"Validation accuracy with zeros channels\")\n",
        "plt.title(\"Effect of noise channels on validation accuracy\")\n",
        "plt.xlabel(\"Epochs\")\n",
        "plt.ylabel(\"Accuracy\")\n",
        "plt.legend()"
      ]
    },
    {
      "cell_type": "markdown",
      "metadata": {
        "id": "iXs0U8n9lHKL"
      },
      "source": [
        "### The nature of generalization in deep learning"
      ]
    },
    {
      "cell_type": "markdown",
      "metadata": {
        "id": "i5MmLXI8lHKL"
      },
      "source": [
        "**Fitting a MNIST model with randomly shuffled labels**"
      ]
    },
    {
      "cell_type": "code",
      "execution_count": 4,
      "metadata": {
        "id": "mQhuZd1blHKL",
        "colab": {
          "base_uri": "https://localhost:8080/"
        },
        "outputId": "50782e50-1be0-49c9-edbe-b0e019bf48c2"
      },
      "outputs": [
        {
          "output_type": "stream",
          "name": "stdout",
          "text": [
            "Epoch 1/100\n",
            "375/375 [==============================] - 2s 4ms/step - loss: 2.3159 - accuracy: 0.1024 - val_loss: 2.3055 - val_accuracy: 0.1037\n",
            "Epoch 2/100\n",
            "375/375 [==============================] - 1s 3ms/step - loss: 2.2999 - accuracy: 0.1151 - val_loss: 2.3077 - val_accuracy: 0.1107\n",
            "Epoch 3/100\n",
            "375/375 [==============================] - 1s 3ms/step - loss: 2.2915 - accuracy: 0.1287 - val_loss: 2.3151 - val_accuracy: 0.1083\n",
            "Epoch 4/100\n",
            "375/375 [==============================] - 1s 3ms/step - loss: 2.2805 - accuracy: 0.1379 - val_loss: 2.3286 - val_accuracy: 0.1076\n",
            "Epoch 5/100\n",
            "375/375 [==============================] - 1s 3ms/step - loss: 2.2646 - accuracy: 0.1526 - val_loss: 2.3337 - val_accuracy: 0.1037\n",
            "Epoch 6/100\n",
            "375/375 [==============================] - 1s 3ms/step - loss: 2.2445 - accuracy: 0.1679 - val_loss: 2.3491 - val_accuracy: 0.0995\n",
            "Epoch 7/100\n",
            "375/375 [==============================] - 1s 3ms/step - loss: 2.2215 - accuracy: 0.1814 - val_loss: 2.3562 - val_accuracy: 0.1028\n",
            "Epoch 8/100\n",
            "375/375 [==============================] - 1s 3ms/step - loss: 2.1955 - accuracy: 0.1956 - val_loss: 2.3729 - val_accuracy: 0.0999\n",
            "Epoch 9/100\n",
            "375/375 [==============================] - 1s 4ms/step - loss: 2.1657 - accuracy: 0.2117 - val_loss: 2.3935 - val_accuracy: 0.0998\n",
            "Epoch 10/100\n",
            "375/375 [==============================] - 2s 4ms/step - loss: 2.1329 - accuracy: 0.2286 - val_loss: 2.4186 - val_accuracy: 0.1001\n",
            "Epoch 11/100\n",
            "375/375 [==============================] - 1s 3ms/step - loss: 2.0987 - accuracy: 0.2462 - val_loss: 2.4448 - val_accuracy: 0.0991\n",
            "Epoch 12/100\n",
            "375/375 [==============================] - 1s 3ms/step - loss: 2.0618 - accuracy: 0.2615 - val_loss: 2.4606 - val_accuracy: 0.1018\n",
            "Epoch 13/100\n",
            "375/375 [==============================] - 1s 3ms/step - loss: 2.0257 - accuracy: 0.2811 - val_loss: 2.4988 - val_accuracy: 0.0969\n",
            "Epoch 14/100\n",
            "375/375 [==============================] - 1s 3ms/step - loss: 1.9855 - accuracy: 0.2972 - val_loss: 2.5248 - val_accuracy: 0.1053\n",
            "Epoch 15/100\n",
            "375/375 [==============================] - 1s 3ms/step - loss: 1.9468 - accuracy: 0.3162 - val_loss: 2.5395 - val_accuracy: 0.0988\n",
            "Epoch 16/100\n",
            "375/375 [==============================] - 1s 3ms/step - loss: 1.9071 - accuracy: 0.3306 - val_loss: 2.5956 - val_accuracy: 0.1032\n",
            "Epoch 17/100\n",
            "375/375 [==============================] - 1s 3ms/step - loss: 1.8682 - accuracy: 0.3450 - val_loss: 2.6122 - val_accuracy: 0.1018\n",
            "Epoch 18/100\n",
            "375/375 [==============================] - 1s 3ms/step - loss: 1.8275 - accuracy: 0.3649 - val_loss: 2.6547 - val_accuracy: 0.1072\n",
            "Epoch 19/100\n",
            "375/375 [==============================] - 2s 4ms/step - loss: 1.7888 - accuracy: 0.3813 - val_loss: 2.6965 - val_accuracy: 0.1067\n",
            "Epoch 20/100\n",
            "375/375 [==============================] - 1s 3ms/step - loss: 1.7519 - accuracy: 0.3915 - val_loss: 2.7366 - val_accuracy: 0.1032\n",
            "Epoch 21/100\n",
            "375/375 [==============================] - 1s 3ms/step - loss: 1.7116 - accuracy: 0.4081 - val_loss: 2.7798 - val_accuracy: 0.1075\n",
            "Epoch 22/100\n",
            "375/375 [==============================] - 1s 3ms/step - loss: 1.6763 - accuracy: 0.4236 - val_loss: 2.7982 - val_accuracy: 0.1058\n",
            "Epoch 23/100\n",
            "375/375 [==============================] - 1s 3ms/step - loss: 1.6386 - accuracy: 0.4343 - val_loss: 2.8774 - val_accuracy: 0.1058\n",
            "Epoch 24/100\n",
            "375/375 [==============================] - 1s 3ms/step - loss: 1.6025 - accuracy: 0.4505 - val_loss: 2.9074 - val_accuracy: 0.1058\n",
            "Epoch 25/100\n",
            "375/375 [==============================] - 1s 3ms/step - loss: 1.5685 - accuracy: 0.4644 - val_loss: 2.9530 - val_accuracy: 0.1073\n",
            "Epoch 26/100\n",
            "375/375 [==============================] - 1s 3ms/step - loss: 1.5327 - accuracy: 0.4780 - val_loss: 2.9989 - val_accuracy: 0.1042\n",
            "Epoch 27/100\n",
            "375/375 [==============================] - 1s 3ms/step - loss: 1.4991 - accuracy: 0.4901 - val_loss: 3.0470 - val_accuracy: 0.1038\n",
            "Epoch 28/100\n",
            "375/375 [==============================] - 1s 4ms/step - loss: 1.4675 - accuracy: 0.5018 - val_loss: 3.0867 - val_accuracy: 0.1029\n",
            "Epoch 29/100\n",
            "375/375 [==============================] - 2s 4ms/step - loss: 1.4355 - accuracy: 0.5141 - val_loss: 3.1437 - val_accuracy: 0.1037\n",
            "Epoch 30/100\n",
            "375/375 [==============================] - 1s 3ms/step - loss: 1.4032 - accuracy: 0.5237 - val_loss: 3.1961 - val_accuracy: 0.1087\n",
            "Epoch 31/100\n",
            "375/375 [==============================] - 1s 4ms/step - loss: 1.3748 - accuracy: 0.5361 - val_loss: 3.2397 - val_accuracy: 0.1070\n",
            "Epoch 32/100\n",
            "375/375 [==============================] - 1s 3ms/step - loss: 1.3457 - accuracy: 0.5458 - val_loss: 3.3167 - val_accuracy: 0.1060\n",
            "Epoch 33/100\n",
            "375/375 [==============================] - 1s 3ms/step - loss: 1.3174 - accuracy: 0.5558 - val_loss: 3.3573 - val_accuracy: 0.1086\n",
            "Epoch 34/100\n",
            "375/375 [==============================] - 1s 3ms/step - loss: 1.2887 - accuracy: 0.5662 - val_loss: 3.4040 - val_accuracy: 0.1067\n",
            "Epoch 35/100\n",
            "375/375 [==============================] - 1s 3ms/step - loss: 1.2611 - accuracy: 0.5779 - val_loss: 3.4927 - val_accuracy: 0.1081\n",
            "Epoch 36/100\n",
            "375/375 [==============================] - 1s 3ms/step - loss: 1.2327 - accuracy: 0.5891 - val_loss: 3.5574 - val_accuracy: 0.1084\n",
            "Epoch 37/100\n",
            "375/375 [==============================] - 1s 3ms/step - loss: 1.2085 - accuracy: 0.5948 - val_loss: 3.5706 - val_accuracy: 0.1112\n",
            "Epoch 38/100\n",
            "375/375 [==============================] - 1s 4ms/step - loss: 1.1823 - accuracy: 0.6043 - val_loss: 3.6341 - val_accuracy: 0.1082\n",
            "Epoch 39/100\n",
            "375/375 [==============================] - 1s 4ms/step - loss: 1.1598 - accuracy: 0.6120 - val_loss: 3.7069 - val_accuracy: 0.1062\n",
            "Epoch 40/100\n",
            "375/375 [==============================] - 1s 3ms/step - loss: 1.1349 - accuracy: 0.6236 - val_loss: 3.7450 - val_accuracy: 0.1112\n",
            "Epoch 41/100\n",
            "375/375 [==============================] - 1s 3ms/step - loss: 1.1116 - accuracy: 0.6308 - val_loss: 3.8123 - val_accuracy: 0.1055\n",
            "Epoch 42/100\n",
            "375/375 [==============================] - 1s 3ms/step - loss: 1.0861 - accuracy: 0.6406 - val_loss: 3.8728 - val_accuracy: 0.1069\n",
            "Epoch 43/100\n",
            "375/375 [==============================] - 1s 3ms/step - loss: 1.0633 - accuracy: 0.6480 - val_loss: 3.9171 - val_accuracy: 0.1053\n",
            "Epoch 44/100\n",
            "375/375 [==============================] - 1s 3ms/step - loss: 1.0426 - accuracy: 0.6572 - val_loss: 3.9760 - val_accuracy: 0.1048\n",
            "Epoch 45/100\n",
            "375/375 [==============================] - 1s 3ms/step - loss: 1.0211 - accuracy: 0.6645 - val_loss: 4.0405 - val_accuracy: 0.1031\n",
            "Epoch 46/100\n",
            "375/375 [==============================] - 1s 3ms/step - loss: 1.0012 - accuracy: 0.6670 - val_loss: 4.0726 - val_accuracy: 0.1054\n",
            "Epoch 47/100\n",
            "375/375 [==============================] - 1s 3ms/step - loss: 0.9792 - accuracy: 0.6785 - val_loss: 4.1580 - val_accuracy: 0.1062\n",
            "Epoch 48/100\n",
            "375/375 [==============================] - 2s 5ms/step - loss: 0.9617 - accuracy: 0.6832 - val_loss: 4.2148 - val_accuracy: 0.1069\n",
            "Epoch 49/100\n",
            "375/375 [==============================] - 2s 5ms/step - loss: 0.9408 - accuracy: 0.6923 - val_loss: 4.2781 - val_accuracy: 0.1051\n",
            "Epoch 50/100\n",
            "375/375 [==============================] - 1s 4ms/step - loss: 0.9211 - accuracy: 0.6946 - val_loss: 4.3758 - val_accuracy: 0.1079\n",
            "Epoch 51/100\n",
            "375/375 [==============================] - 1s 3ms/step - loss: 0.9043 - accuracy: 0.7029 - val_loss: 4.4455 - val_accuracy: 0.1057\n",
            "Epoch 52/100\n",
            "375/375 [==============================] - 1s 3ms/step - loss: 0.8846 - accuracy: 0.7108 - val_loss: 4.4673 - val_accuracy: 0.1058\n",
            "Epoch 53/100\n",
            "375/375 [==============================] - 1s 3ms/step - loss: 0.8661 - accuracy: 0.7182 - val_loss: 4.5490 - val_accuracy: 0.1053\n",
            "Epoch 54/100\n",
            "375/375 [==============================] - 1s 3ms/step - loss: 0.8508 - accuracy: 0.7214 - val_loss: 4.6228 - val_accuracy: 0.1050\n",
            "Epoch 55/100\n",
            "375/375 [==============================] - 1s 3ms/step - loss: 0.8327 - accuracy: 0.7275 - val_loss: 4.6817 - val_accuracy: 0.1091\n",
            "Epoch 56/100\n",
            "375/375 [==============================] - 1s 3ms/step - loss: 0.8147 - accuracy: 0.7338 - val_loss: 4.7300 - val_accuracy: 0.1032\n",
            "Epoch 57/100\n",
            "375/375 [==============================] - 1s 4ms/step - loss: 0.7997 - accuracy: 0.7404 - val_loss: 4.8280 - val_accuracy: 0.1067\n",
            "Epoch 58/100\n",
            "375/375 [==============================] - 2s 4ms/step - loss: 0.7840 - accuracy: 0.7473 - val_loss: 4.8843 - val_accuracy: 0.1057\n",
            "Epoch 59/100\n",
            "375/375 [==============================] - 1s 3ms/step - loss: 0.7682 - accuracy: 0.7517 - val_loss: 4.9851 - val_accuracy: 0.1073\n",
            "Epoch 60/100\n",
            "375/375 [==============================] - 1s 3ms/step - loss: 0.7562 - accuracy: 0.7542 - val_loss: 4.9909 - val_accuracy: 0.1017\n",
            "Epoch 61/100\n",
            "375/375 [==============================] - 1s 3ms/step - loss: 0.7385 - accuracy: 0.7605 - val_loss: 5.0910 - val_accuracy: 0.1043\n",
            "Epoch 62/100\n",
            "375/375 [==============================] - 1s 3ms/step - loss: 0.7236 - accuracy: 0.7650 - val_loss: 5.1470 - val_accuracy: 0.1034\n",
            "Epoch 63/100\n",
            "375/375 [==============================] - 1s 3ms/step - loss: 0.7096 - accuracy: 0.7707 - val_loss: 5.1906 - val_accuracy: 0.1004\n",
            "Epoch 64/100\n",
            "375/375 [==============================] - 1s 3ms/step - loss: 0.6967 - accuracy: 0.7745 - val_loss: 5.3201 - val_accuracy: 0.1045\n",
            "Epoch 65/100\n",
            "375/375 [==============================] - 1s 3ms/step - loss: 0.6845 - accuracy: 0.7806 - val_loss: 5.3538 - val_accuracy: 0.1067\n",
            "Epoch 66/100\n",
            "375/375 [==============================] - 1s 3ms/step - loss: 0.6698 - accuracy: 0.7847 - val_loss: 5.4407 - val_accuracy: 0.1058\n",
            "Epoch 67/100\n",
            "375/375 [==============================] - 1s 4ms/step - loss: 0.6565 - accuracy: 0.7890 - val_loss: 5.5163 - val_accuracy: 0.1058\n",
            "Epoch 68/100\n",
            "375/375 [==============================] - 1s 4ms/step - loss: 0.6416 - accuracy: 0.7933 - val_loss: 5.5021 - val_accuracy: 0.1055\n",
            "Epoch 69/100\n",
            "375/375 [==============================] - 1s 3ms/step - loss: 0.6305 - accuracy: 0.7986 - val_loss: 5.6285 - val_accuracy: 0.1054\n",
            "Epoch 70/100\n",
            "375/375 [==============================] - 1s 3ms/step - loss: 0.6189 - accuracy: 0.8005 - val_loss: 5.6882 - val_accuracy: 0.1047\n",
            "Epoch 71/100\n",
            "375/375 [==============================] - 1s 3ms/step - loss: 0.6072 - accuracy: 0.8058 - val_loss: 5.7703 - val_accuracy: 0.1044\n",
            "Epoch 72/100\n",
            "375/375 [==============================] - 1s 3ms/step - loss: 0.5952 - accuracy: 0.8104 - val_loss: 5.8469 - val_accuracy: 0.1039\n",
            "Epoch 73/100\n",
            "375/375 [==============================] - 1s 3ms/step - loss: 0.5825 - accuracy: 0.8161 - val_loss: 5.9155 - val_accuracy: 0.1037\n",
            "Epoch 74/100\n",
            "375/375 [==============================] - 1s 3ms/step - loss: 0.5740 - accuracy: 0.8173 - val_loss: 5.9850 - val_accuracy: 0.1033\n",
            "Epoch 75/100\n",
            "375/375 [==============================] - 1s 3ms/step - loss: 0.5621 - accuracy: 0.8213 - val_loss: 6.0708 - val_accuracy: 0.1043\n",
            "Epoch 76/100\n",
            "375/375 [==============================] - 1s 3ms/step - loss: 0.5515 - accuracy: 0.8265 - val_loss: 6.1835 - val_accuracy: 0.1061\n",
            "Epoch 77/100\n",
            "375/375 [==============================] - 2s 4ms/step - loss: 0.5411 - accuracy: 0.8293 - val_loss: 6.2513 - val_accuracy: 0.1051\n",
            "Epoch 78/100\n",
            "375/375 [==============================] - 1s 4ms/step - loss: 0.5300 - accuracy: 0.8334 - val_loss: 6.2633 - val_accuracy: 0.1037\n",
            "Epoch 79/100\n",
            "375/375 [==============================] - 1s 3ms/step - loss: 0.5192 - accuracy: 0.8352 - val_loss: 6.3487 - val_accuracy: 0.1055\n",
            "Epoch 80/100\n",
            "375/375 [==============================] - 1s 3ms/step - loss: 0.5101 - accuracy: 0.8403 - val_loss: 6.4277 - val_accuracy: 0.1007\n",
            "Epoch 81/100\n",
            "375/375 [==============================] - 1s 3ms/step - loss: 0.5004 - accuracy: 0.8422 - val_loss: 6.4927 - val_accuracy: 0.1037\n",
            "Epoch 82/100\n",
            "375/375 [==============================] - 1s 3ms/step - loss: 0.4923 - accuracy: 0.8446 - val_loss: 6.5884 - val_accuracy: 0.1023\n",
            "Epoch 83/100\n",
            "375/375 [==============================] - 1s 3ms/step - loss: 0.4821 - accuracy: 0.8489 - val_loss: 6.6434 - val_accuracy: 0.1028\n",
            "Epoch 84/100\n",
            "375/375 [==============================] - 1s 3ms/step - loss: 0.4725 - accuracy: 0.8508 - val_loss: 6.7054 - val_accuracy: 0.1033\n",
            "Epoch 85/100\n",
            "375/375 [==============================] - 1s 3ms/step - loss: 0.4643 - accuracy: 0.8539 - val_loss: 6.8023 - val_accuracy: 0.1038\n",
            "Epoch 86/100\n",
            "375/375 [==============================] - 1s 3ms/step - loss: 0.4558 - accuracy: 0.8583 - val_loss: 6.8269 - val_accuracy: 0.1033\n",
            "Epoch 87/100\n",
            "375/375 [==============================] - 1s 4ms/step - loss: 0.4474 - accuracy: 0.8594 - val_loss: 6.9549 - val_accuracy: 0.1019\n",
            "Epoch 88/100\n",
            "375/375 [==============================] - 2s 4ms/step - loss: 0.4390 - accuracy: 0.8619 - val_loss: 7.0294 - val_accuracy: 0.1019\n",
            "Epoch 89/100\n",
            "375/375 [==============================] - 1s 3ms/step - loss: 0.4329 - accuracy: 0.8643 - val_loss: 7.0859 - val_accuracy: 0.1006\n",
            "Epoch 90/100\n",
            "375/375 [==============================] - 1s 3ms/step - loss: 0.4230 - accuracy: 0.8691 - val_loss: 7.1778 - val_accuracy: 0.1021\n",
            "Epoch 91/100\n",
            "375/375 [==============================] - 1s 3ms/step - loss: 0.4173 - accuracy: 0.8695 - val_loss: 7.1824 - val_accuracy: 0.1036\n",
            "Epoch 92/100\n",
            "375/375 [==============================] - 1s 3ms/step - loss: 0.4090 - accuracy: 0.8722 - val_loss: 7.3186 - val_accuracy: 0.1038\n",
            "Epoch 93/100\n",
            "375/375 [==============================] - 1s 3ms/step - loss: 0.4001 - accuracy: 0.8767 - val_loss: 7.3823 - val_accuracy: 0.1015\n",
            "Epoch 94/100\n",
            "375/375 [==============================] - 1s 3ms/step - loss: 0.3920 - accuracy: 0.8791 - val_loss: 7.4508 - val_accuracy: 0.1005\n",
            "Epoch 95/100\n",
            "375/375 [==============================] - 1s 3ms/step - loss: 0.3860 - accuracy: 0.8802 - val_loss: 7.5173 - val_accuracy: 0.0992\n",
            "Epoch 96/100\n",
            "375/375 [==============================] - 1s 4ms/step - loss: 0.3794 - accuracy: 0.8839 - val_loss: 7.5866 - val_accuracy: 0.1032\n",
            "Epoch 97/100\n",
            "375/375 [==============================] - 2s 4ms/step - loss: 0.3723 - accuracy: 0.8848 - val_loss: 7.6978 - val_accuracy: 0.1009\n",
            "Epoch 98/100\n",
            "375/375 [==============================] - 1s 3ms/step - loss: 0.3668 - accuracy: 0.8877 - val_loss: 7.7503 - val_accuracy: 0.1037\n",
            "Epoch 99/100\n",
            "375/375 [==============================] - 1s 3ms/step - loss: 0.3598 - accuracy: 0.8893 - val_loss: 7.8171 - val_accuracy: 0.1052\n",
            "Epoch 100/100\n",
            "375/375 [==============================] - 1s 3ms/step - loss: 0.3515 - accuracy: 0.8915 - val_loss: 7.9169 - val_accuracy: 0.1017\n"
          ]
        },
        {
          "output_type": "execute_result",
          "data": {
            "text/plain": [
              "<keras.callbacks.History at 0x7f4b54c2e340>"
            ]
          },
          "metadata": {},
          "execution_count": 4
        }
      ],
      "source": [
        "(train_images, train_labels), _ = mnist.load_data()\n",
        "train_images = train_images.reshape((60000, 28 * 28))\n",
        "train_images = train_images.astype(\"float32\") / 255\n",
        "\n",
        "random_train_labels = train_labels[:]\n",
        "np.random.shuffle(random_train_labels)\n",
        "\n",
        "model = keras.Sequential([\n",
        "    layers.Dense(512, activation=\"relu\"),\n",
        "    layers.Dense(10, activation=\"softmax\")\n",
        "])\n",
        "model.compile(optimizer=\"rmsprop\",\n",
        "              loss=\"sparse_categorical_crossentropy\",\n",
        "              metrics=[\"accuracy\"])\n",
        "model.fit(train_images, random_train_labels,\n",
        "          epochs=100,\n",
        "          batch_size=128,\n",
        "          validation_split=0.2)"
      ]
    },
    {
      "cell_type": "markdown",
      "metadata": {
        "id": "NYjXb2shlHKM"
      },
      "source": [
        "#### The manifold hypothesis"
      ]
    },
    {
      "cell_type": "markdown",
      "metadata": {
        "id": "869VgJewlHKM"
      },
      "source": [
        "#### Interpolation as a source of generalization"
      ]
    },
    {
      "cell_type": "markdown",
      "metadata": {
        "id": "uuETTaNTlHKM"
      },
      "source": [
        "#### Why deep learning works"
      ]
    },
    {
      "cell_type": "markdown",
      "metadata": {
        "id": "YSLTpgZklHKN"
      },
      "source": [
        "#### Training data is paramount"
      ]
    },
    {
      "cell_type": "markdown",
      "metadata": {
        "id": "opAcl7melHKN"
      },
      "source": [
        "## Evaluating machine-learning models"
      ]
    },
    {
      "cell_type": "markdown",
      "metadata": {
        "id": "lkFI2Gc2lHKO"
      },
      "source": [
        "### Training, validation, and test sets"
      ]
    },
    {
      "cell_type": "markdown",
      "metadata": {
        "id": "b47TnaCVlHKO"
      },
      "source": [
        "#### Simple hold-out validation"
      ]
    },
    {
      "cell_type": "markdown",
      "metadata": {
        "id": "f6tY8CN_lHKP"
      },
      "source": [
        "#### K-fold validation"
      ]
    },
    {
      "cell_type": "markdown",
      "metadata": {
        "id": "IZmQBrhJlHKP"
      },
      "source": [
        "#### Iterated K-fold validation with shuffling"
      ]
    },
    {
      "cell_type": "markdown",
      "metadata": {
        "id": "0zY3sHDblHKQ"
      },
      "source": [
        "### Beating a common-sense baseline"
      ]
    },
    {
      "cell_type": "markdown",
      "metadata": {
        "id": "ACTql5a-lHKQ"
      },
      "source": [
        "### Things to keep in mind about model evaluation"
      ]
    },
    {
      "cell_type": "markdown",
      "metadata": {
        "id": "1HetgZqflHKQ"
      },
      "source": [
        "## Improving model fit"
      ]
    },
    {
      "cell_type": "markdown",
      "metadata": {
        "id": "jsKWOhs2lHKR"
      },
      "source": [
        "### Tuning key gradient descent parameters"
      ]
    },
    {
      "cell_type": "markdown",
      "metadata": {
        "id": "_qBdKfwWlHKR"
      },
      "source": [
        "**Training a MNIST model with an incorrectly high learning rate**"
      ]
    },
    {
      "cell_type": "code",
      "execution_count": 5,
      "metadata": {
        "id": "NieGWxb-lHKR",
        "colab": {
          "base_uri": "https://localhost:8080/"
        },
        "outputId": "dc6c99a9-fbf4-4c4a-d0e4-ca5aaccb2b6e"
      },
      "outputs": [
        {
          "output_type": "stream",
          "name": "stdout",
          "text": [
            "Epoch 1/10\n",
            "375/375 [==============================] - 3s 4ms/step - loss: 662.1756 - accuracy: 0.3509 - val_loss: 2.1251 - val_accuracy: 0.2574\n",
            "Epoch 2/10\n",
            "375/375 [==============================] - 1s 3ms/step - loss: 3.8996 - accuracy: 0.2464 - val_loss: 2.2086 - val_accuracy: 0.2062\n",
            "Epoch 3/10\n",
            "375/375 [==============================] - 1s 3ms/step - loss: 3.3625 - accuracy: 0.2152 - val_loss: 2.1217 - val_accuracy: 0.2157\n",
            "Epoch 4/10\n",
            "375/375 [==============================] - 1s 3ms/step - loss: 2.6127 - accuracy: 0.2115 - val_loss: 2.2165 - val_accuracy: 0.2005\n",
            "Epoch 5/10\n",
            "375/375 [==============================] - 1s 3ms/step - loss: 2.4142 - accuracy: 0.1999 - val_loss: 2.3976 - val_accuracy: 0.1126\n",
            "Epoch 6/10\n",
            "375/375 [==============================] - 1s 3ms/step - loss: 3.5573 - accuracy: 0.1778 - val_loss: 2.1885 - val_accuracy: 0.2091\n",
            "Epoch 7/10\n",
            "375/375 [==============================] - 1s 3ms/step - loss: 2.3495 - accuracy: 0.1981 - val_loss: 2.1916 - val_accuracy: 0.2003\n",
            "Epoch 8/10\n",
            "375/375 [==============================] - 1s 3ms/step - loss: 2.3309 - accuracy: 0.2008 - val_loss: 12.9133 - val_accuracy: 0.1465\n",
            "Epoch 9/10\n",
            "375/375 [==============================] - 1s 3ms/step - loss: 2.3999 - accuracy: 0.2033 - val_loss: 2.2614 - val_accuracy: 0.2028\n",
            "Epoch 10/10\n",
            "375/375 [==============================] - 2s 4ms/step - loss: 2.3518 - accuracy: 0.1891 - val_loss: 2.1096 - val_accuracy: 0.1962\n"
          ]
        },
        {
          "output_type": "execute_result",
          "data": {
            "text/plain": [
              "<keras.callbacks.History at 0x7f4b54dd86d0>"
            ]
          },
          "metadata": {},
          "execution_count": 5
        }
      ],
      "source": [
        "(train_images, train_labels), _ = mnist.load_data()\n",
        "train_images = train_images.reshape((60000, 28 * 28))\n",
        "train_images = train_images.astype(\"float32\") / 255\n",
        "\n",
        "model = keras.Sequential([\n",
        "    layers.Dense(512, activation=\"relu\"),\n",
        "    layers.Dense(10, activation=\"softmax\")\n",
        "])\n",
        "model.compile(optimizer=keras.optimizers.RMSprop(1.),\n",
        "              loss=\"sparse_categorical_crossentropy\",\n",
        "              metrics=[\"accuracy\"])\n",
        "model.fit(train_images, train_labels,\n",
        "          epochs=10,\n",
        "          batch_size=128,\n",
        "          validation_split=0.2)"
      ]
    },
    {
      "cell_type": "code",
      "source": [
        "(train_images, train_labels), _ = mnist.load_data()\n",
        "train_images = train_images.reshape((60000, 28 * 28))\n",
        "train_images = train_images.astype(\"float32\") / 255\n",
        "\n",
        "model = keras.Sequential([\n",
        "    layers.Dense(512, activation=\"relu\"),\n",
        "    layers.Dense(10, activation=\"softmax\")\n",
        "])\n",
        "model.compile(optimizer=keras.optimizers.RMSprop(0.01),\n",
        "              loss=\"sparse_categorical_crossentropy\",\n",
        "              metrics=[\"accuracy\"])\n",
        "model.fit(train_images, train_labels,\n",
        "          epochs=10,\n",
        "          batch_size=128,\n",
        "          validation_split=0.2)\n",
        "\n",
        "#rmsporp 괄호 안의 수를 0.01로 바꾸니까 accuracy가 올라감감"
      ],
      "metadata": {
        "colab": {
          "base_uri": "https://localhost:8080/"
        },
        "id": "lwpVNdj69Lfy",
        "outputId": "dfe8e2f4-2efb-4f87-8c41-3b9ce5d012ac"
      },
      "execution_count": 32,
      "outputs": [
        {
          "output_type": "stream",
          "name": "stdout",
          "text": [
            "Epoch 1/10\n",
            "375/375 [==============================] - 2s 4ms/step - loss: 0.3454 - accuracy: 0.9140 - val_loss: 0.1321 - val_accuracy: 0.9636\n",
            "Epoch 2/10\n",
            "375/375 [==============================] - 1s 4ms/step - loss: 0.1277 - accuracy: 0.9645 - val_loss: 0.1554 - val_accuracy: 0.9619\n",
            "Epoch 3/10\n",
            "375/375 [==============================] - 1s 3ms/step - loss: 0.1018 - accuracy: 0.9734 - val_loss: 0.1732 - val_accuracy: 0.9627\n",
            "Epoch 4/10\n",
            "375/375 [==============================] - 1s 3ms/step - loss: 0.0811 - accuracy: 0.9783 - val_loss: 0.1580 - val_accuracy: 0.9699\n",
            "Epoch 5/10\n",
            "375/375 [==============================] - 1s 3ms/step - loss: 0.0689 - accuracy: 0.9827 - val_loss: 0.1973 - val_accuracy: 0.9672\n",
            "Epoch 6/10\n",
            "375/375 [==============================] - 1s 4ms/step - loss: 0.0586 - accuracy: 0.9855 - val_loss: 0.1728 - val_accuracy: 0.9718\n",
            "Epoch 7/10\n",
            "375/375 [==============================] - 1s 3ms/step - loss: 0.0523 - accuracy: 0.9872 - val_loss: 0.1815 - val_accuracy: 0.9737\n",
            "Epoch 8/10\n",
            "375/375 [==============================] - 1s 3ms/step - loss: 0.0507 - accuracy: 0.9886 - val_loss: 0.2215 - val_accuracy: 0.9710\n",
            "Epoch 9/10\n",
            "375/375 [==============================] - 1s 3ms/step - loss: 0.0444 - accuracy: 0.9895 - val_loss: 0.2465 - val_accuracy: 0.9687\n",
            "Epoch 10/10\n",
            "375/375 [==============================] - 1s 4ms/step - loss: 0.0365 - accuracy: 0.9917 - val_loss: 0.2209 - val_accuracy: 0.9744\n"
          ]
        },
        {
          "output_type": "execute_result",
          "data": {
            "text/plain": [
              "<keras.callbacks.History at 0x7f4a5c5e1ee0>"
            ]
          },
          "metadata": {},
          "execution_count": 32
        }
      ]
    },
    {
      "cell_type": "markdown",
      "metadata": {
        "id": "r-qB3rhdlHKS"
      },
      "source": [
        "**The same model with a more appropriate learning rate**"
      ]
    },
    {
      "cell_type": "code",
      "execution_count": 33,
      "metadata": {
        "id": "9gH92kxGlHKS",
        "colab": {
          "base_uri": "https://localhost:8080/"
        },
        "outputId": "fad72a6e-653d-4a97-cf6e-6eb657eb928c"
      },
      "outputs": [
        {
          "output_type": "stream",
          "name": "stdout",
          "text": [
            "Epoch 1/10\n",
            "375/375 [==============================] - 2s 4ms/step - loss: 0.3270 - accuracy: 0.9125 - val_loss: 0.1354 - val_accuracy: 0.9618\n",
            "Epoch 2/10\n",
            "375/375 [==============================] - 1s 4ms/step - loss: 0.1280 - accuracy: 0.9650 - val_loss: 0.1424 - val_accuracy: 0.9655\n",
            "Epoch 3/10\n",
            "375/375 [==============================] - 1s 3ms/step - loss: 0.0988 - accuracy: 0.9736 - val_loss: 0.1451 - val_accuracy: 0.9688\n",
            "Epoch 4/10\n",
            "375/375 [==============================] - 1s 3ms/step - loss: 0.0831 - accuracy: 0.9788 - val_loss: 0.1597 - val_accuracy: 0.9700\n",
            "Epoch 5/10\n",
            "375/375 [==============================] - 1s 3ms/step - loss: 0.0713 - accuracy: 0.9819 - val_loss: 0.1787 - val_accuracy: 0.9701\n",
            "Epoch 6/10\n",
            "375/375 [==============================] - 1s 3ms/step - loss: 0.0657 - accuracy: 0.9843 - val_loss: 0.1632 - val_accuracy: 0.9754\n",
            "Epoch 7/10\n",
            "375/375 [==============================] - 1s 3ms/step - loss: 0.0546 - accuracy: 0.9871 - val_loss: 0.2010 - val_accuracy: 0.9699\n",
            "Epoch 8/10\n",
            "375/375 [==============================] - 1s 3ms/step - loss: 0.0460 - accuracy: 0.9895 - val_loss: 0.2170 - val_accuracy: 0.9706\n",
            "Epoch 9/10\n",
            "375/375 [==============================] - 1s 3ms/step - loss: 0.0437 - accuracy: 0.9903 - val_loss: 0.1819 - val_accuracy: 0.9763\n",
            "Epoch 10/10\n",
            "375/375 [==============================] - 1s 3ms/step - loss: 0.0359 - accuracy: 0.9918 - val_loss: 0.2402 - val_accuracy: 0.9713\n",
            "Epoch 1/10\n",
            "375/375 [==============================] - 1s 4ms/step - loss: 0.0341 - accuracy: 0.9922 - val_loss: 0.2216 - val_accuracy: 0.9747\n",
            "Epoch 2/10\n",
            "375/375 [==============================] - 1s 3ms/step - loss: 0.0316 - accuracy: 0.9925 - val_loss: 0.2476 - val_accuracy: 0.9761\n",
            "Epoch 3/10\n",
            "375/375 [==============================] - 1s 4ms/step - loss: 0.0312 - accuracy: 0.9931 - val_loss: 0.2702 - val_accuracy: 0.9732\n",
            "Epoch 4/10\n",
            "375/375 [==============================] - 1s 4ms/step - loss: 0.0327 - accuracy: 0.9935 - val_loss: 0.3022 - val_accuracy: 0.9732\n",
            "Epoch 5/10\n",
            "375/375 [==============================] - 1s 3ms/step - loss: 0.0289 - accuracy: 0.9942 - val_loss: 0.2754 - val_accuracy: 0.9749\n",
            "Epoch 6/10\n",
            "375/375 [==============================] - 1s 3ms/step - loss: 0.0288 - accuracy: 0.9945 - val_loss: 0.2601 - val_accuracy: 0.9760\n",
            "Epoch 7/10\n",
            "375/375 [==============================] - 1s 3ms/step - loss: 0.0182 - accuracy: 0.9961 - val_loss: 0.2910 - val_accuracy: 0.9746\n",
            "Epoch 8/10\n",
            "375/375 [==============================] - 1s 3ms/step - loss: 0.0214 - accuracy: 0.9957 - val_loss: 0.2830 - val_accuracy: 0.9751\n",
            "Epoch 9/10\n",
            "375/375 [==============================] - 1s 3ms/step - loss: 0.0158 - accuracy: 0.9965 - val_loss: 0.2766 - val_accuracy: 0.9774\n",
            "Epoch 10/10\n",
            "375/375 [==============================] - 1s 3ms/step - loss: 0.0167 - accuracy: 0.9961 - val_loss: 0.2959 - val_accuracy: 0.9765\n"
          ]
        }
      ],
      "source": [
        "model = keras.Sequential([\n",
        "    layers.Dense(512, activation=\"relu\"),\n",
        "    layers.Dense(10, activation=\"softmax\")\n",
        "])\n",
        "model.compile(optimizer=keras.optimizers.RMSprop(1e-2),\n",
        "              loss=\"sparse_categorical_crossentropy\",\n",
        "              metrics=[\"accuracy\"])\n",
        "model.fit(train_images, train_labels,\n",
        "          epochs=10,\n",
        "          batch_size=128,\n",
        "          validation_split=0.2)\n",
        "history_model = model.fit(\n",
        "    train_images, train_labels, \n",
        "          epochs=10,\n",
        "          batch_size=128,\n",
        "          validation_split=0.2)"
      ]
    },
    {
      "cell_type": "code",
      "source": [
        "import matplotlib.pyplot as plt\n",
        "val_small_loss = history_small_model.history[\"val_loss\"]\n",
        "val_large_loss = history_large_model.history[\"val_loss\"]\n",
        "val_original_loss = history_original_model.history[\"val_loss\"]\n",
        "epochs = range(1, 21)\n",
        "plt.plot(epochs, val_small_loss, \"b--\",\n",
        "         label=\"Validation small loss\")\n",
        "plt.plot(epochs, val_large_loss, \"b--\",\n",
        "         label=\"Validation large loss\")\n",
        "plt.plot(epochs, val_original_loss, \"b--\",\n",
        "         label=\"Validation original loss\")\n",
        "plt.title(\"Effect of insufficient model capacity on validation loss\")\n",
        "plt.xlabel(\"Epochs\")\n",
        "plt.ylabel(\"Loss\")\n",
        "plt.legend()"
      ],
      "metadata": {
        "colab": {
          "base_uri": "https://localhost:8080/",
          "height": 253
        },
        "id": "q-3I8dxx_5P1",
        "outputId": "220d7c18-f67d-4bf5-ea46-75dad77171d8"
      },
      "execution_count": 36,
      "outputs": [
        {
          "output_type": "error",
          "ename": "NameError",
          "evalue": "ignored",
          "traceback": [
            "\u001b[0;31m---------------------------------------------------------------------------\u001b[0m",
            "\u001b[0;31mNameError\u001b[0m                                 Traceback (most recent call last)",
            "\u001b[0;32m<ipython-input-36-960c0226a9e7>\u001b[0m in \u001b[0;36m<cell line: 4>\u001b[0;34m()\u001b[0m\n\u001b[1;32m      2\u001b[0m \u001b[0mval_small_loss\u001b[0m \u001b[0;34m=\u001b[0m \u001b[0mhistory_small_model\u001b[0m\u001b[0;34m.\u001b[0m\u001b[0mhistory\u001b[0m\u001b[0;34m[\u001b[0m\u001b[0;34m\"val_loss\"\u001b[0m\u001b[0;34m]\u001b[0m\u001b[0;34m\u001b[0m\u001b[0;34m\u001b[0m\u001b[0m\n\u001b[1;32m      3\u001b[0m \u001b[0mval_large_loss\u001b[0m \u001b[0;34m=\u001b[0m \u001b[0mhistory_large_model\u001b[0m\u001b[0;34m.\u001b[0m\u001b[0mhistory\u001b[0m\u001b[0;34m[\u001b[0m\u001b[0;34m\"val_loss\"\u001b[0m\u001b[0;34m]\u001b[0m\u001b[0;34m\u001b[0m\u001b[0;34m\u001b[0m\u001b[0m\n\u001b[0;32m----> 4\u001b[0;31m \u001b[0mval_original_loss\u001b[0m \u001b[0;34m=\u001b[0m \u001b[0mhistory_original_model\u001b[0m\u001b[0;34m.\u001b[0m\u001b[0mhistory\u001b[0m\u001b[0;34m[\u001b[0m\u001b[0;34m\"val_loss\"\u001b[0m\u001b[0;34m]\u001b[0m\u001b[0;34m\u001b[0m\u001b[0;34m\u001b[0m\u001b[0m\n\u001b[0m\u001b[1;32m      5\u001b[0m \u001b[0mepochs\u001b[0m \u001b[0;34m=\u001b[0m \u001b[0mrange\u001b[0m\u001b[0;34m(\u001b[0m\u001b[0;36m1\u001b[0m\u001b[0;34m,\u001b[0m \u001b[0;36m21\u001b[0m\u001b[0;34m)\u001b[0m\u001b[0;34m\u001b[0m\u001b[0;34m\u001b[0m\u001b[0m\n\u001b[1;32m      6\u001b[0m plt.plot(epochs, val_small_loss, \"b--\",\n",
            "\u001b[0;31mNameError\u001b[0m: name 'history_original_model' is not defined"
          ]
        }
      ]
    },
    {
      "cell_type": "markdown",
      "metadata": {
        "id": "Uuw0nJtolHKT"
      },
      "source": [
        "### Leveraging better architecture priors"
      ]
    },
    {
      "cell_type": "markdown",
      "metadata": {
        "id": "5AX_fLhSlHKT"
      },
      "source": [
        "### Increasing model capacity"
      ]
    },
    {
      "cell_type": "markdown",
      "metadata": {
        "id": "Mw92Wq4ElHKT"
      },
      "source": [
        "**A simple logistic regression on MNIST**"
      ]
    },
    {
      "cell_type": "code",
      "execution_count": 34,
      "metadata": {
        "id": "uRmffJuklHKU",
        "colab": {
          "base_uri": "https://localhost:8080/"
        },
        "outputId": "9b4391c8-f8a3-4baa-c20d-c691cd406901"
      },
      "outputs": [
        {
          "output_type": "stream",
          "name": "stdout",
          "text": [
            "Epoch 1/20\n",
            "375/375 [==============================] - 2s 4ms/step - loss: 0.6603 - accuracy: 0.8384 - val_loss: 0.3602 - val_accuracy: 0.9028\n",
            "Epoch 2/20\n",
            "375/375 [==============================] - 1s 4ms/step - loss: 0.3543 - accuracy: 0.9024 - val_loss: 0.3105 - val_accuracy: 0.9137\n",
            "Epoch 3/20\n",
            "375/375 [==============================] - 1s 3ms/step - loss: 0.3189 - accuracy: 0.9108 - val_loss: 0.2935 - val_accuracy: 0.9188\n",
            "Epoch 4/20\n",
            "375/375 [==============================] - 1s 3ms/step - loss: 0.3025 - accuracy: 0.9157 - val_loss: 0.2848 - val_accuracy: 0.9212\n",
            "Epoch 5/20\n",
            "375/375 [==============================] - 1s 3ms/step - loss: 0.2928 - accuracy: 0.9178 - val_loss: 0.2786 - val_accuracy: 0.9241\n",
            "Epoch 6/20\n",
            "375/375 [==============================] - 1s 3ms/step - loss: 0.2857 - accuracy: 0.9204 - val_loss: 0.2785 - val_accuracy: 0.9245\n",
            "Epoch 7/20\n",
            "375/375 [==============================] - 1s 3ms/step - loss: 0.2811 - accuracy: 0.9219 - val_loss: 0.2722 - val_accuracy: 0.9268\n",
            "Epoch 8/20\n",
            "375/375 [==============================] - 1s 3ms/step - loss: 0.2771 - accuracy: 0.9228 - val_loss: 0.2713 - val_accuracy: 0.9255\n",
            "Epoch 9/20\n",
            "375/375 [==============================] - 1s 3ms/step - loss: 0.2738 - accuracy: 0.9240 - val_loss: 0.2688 - val_accuracy: 0.9285\n",
            "Epoch 10/20\n",
            "375/375 [==============================] - 1s 3ms/step - loss: 0.2712 - accuracy: 0.9249 - val_loss: 0.2697 - val_accuracy: 0.9277\n",
            "Epoch 11/20\n",
            "375/375 [==============================] - 1s 3ms/step - loss: 0.2686 - accuracy: 0.9261 - val_loss: 0.2666 - val_accuracy: 0.9284\n",
            "Epoch 12/20\n",
            "375/375 [==============================] - 1s 4ms/step - loss: 0.2666 - accuracy: 0.9263 - val_loss: 0.2672 - val_accuracy: 0.9278\n",
            "Epoch 13/20\n",
            "375/375 [==============================] - 1s 3ms/step - loss: 0.2650 - accuracy: 0.9267 - val_loss: 0.2654 - val_accuracy: 0.9275\n",
            "Epoch 14/20\n",
            "375/375 [==============================] - 1s 3ms/step - loss: 0.2634 - accuracy: 0.9271 - val_loss: 0.2650 - val_accuracy: 0.9290\n",
            "Epoch 15/20\n",
            "375/375 [==============================] - 1s 3ms/step - loss: 0.2617 - accuracy: 0.9279 - val_loss: 0.2644 - val_accuracy: 0.9290\n",
            "Epoch 16/20\n",
            "375/375 [==============================] - 1s 3ms/step - loss: 0.2605 - accuracy: 0.9284 - val_loss: 0.2634 - val_accuracy: 0.9299\n",
            "Epoch 17/20\n",
            "375/375 [==============================] - 1s 3ms/step - loss: 0.2598 - accuracy: 0.9296 - val_loss: 0.2629 - val_accuracy: 0.9292\n",
            "Epoch 18/20\n",
            "375/375 [==============================] - 1s 3ms/step - loss: 0.2585 - accuracy: 0.9290 - val_loss: 0.2624 - val_accuracy: 0.9311\n",
            "Epoch 19/20\n",
            "375/375 [==============================] - 1s 3ms/step - loss: 0.2576 - accuracy: 0.9289 - val_loss: 0.2638 - val_accuracy: 0.9296\n",
            "Epoch 20/20\n",
            "375/375 [==============================] - 1s 3ms/step - loss: 0.2564 - accuracy: 0.9298 - val_loss: 0.2644 - val_accuracy: 0.9298\n"
          ]
        }
      ],
      "source": [
        "model = keras.Sequential([layers.Dense(10, activation=\"softmax\")])\n",
        "model.compile(optimizer=\"rmsprop\",\n",
        "              loss=\"sparse_categorical_crossentropy\",\n",
        "              metrics=[\"accuracy\"])\n",
        "history_small_model = model.fit(\n",
        "    train_images, train_labels,\n",
        "    epochs=20,\n",
        "    batch_size=128,\n",
        "    validation_split=0.2)"
      ]
    },
    {
      "cell_type": "code",
      "execution_count": 35,
      "metadata": {
        "id": "r3tlI2ADlHKU",
        "colab": {
          "base_uri": "https://localhost:8080/",
          "height": 491
        },
        "outputId": "007e7128-a14d-4326-b60f-ba4392a6cbec"
      },
      "outputs": [
        {
          "output_type": "execute_result",
          "data": {
            "text/plain": [
              "<matplotlib.legend.Legend at 0x7f4b6c273040>"
            ]
          },
          "metadata": {},
          "execution_count": 35
        },
        {
          "output_type": "display_data",
          "data": {
            "text/plain": [
              "<Figure size 640x480 with 1 Axes>"
            ],
            "image/png": "[encoded data removed]"
          },
          "metadata": {}
        }
      ],
      "source": [
        "import matplotlib.pyplot as plt\n",
        "val_loss = history_small_model.history[\"val_loss\"]\n",
        "epochs = range(1, 21)\n",
        "plt.plot(epochs, val_loss, \"b--\",\n",
        "         label=\"Validation loss\")\n",
        "plt.title(\"Effect of insufficient model capacity on validation loss\")\n",
        "plt.xlabel(\"Epochs\")\n",
        "plt.ylabel(\"Loss\")\n",
        "plt.legend()"
      ]
    },
    {
      "cell_type": "code",
      "execution_count": 9,
      "metadata": {
        "id": "Yr--LibalHKV",
        "colab": {
          "base_uri": "https://localhost:8080/"
        },
        "outputId": "44d8d896-46da-4ff0-8532-ce0f4a154665"
      },
      "outputs": [
        {
          "output_type": "stream",
          "name": "stdout",
          "text": [
            "Epoch 1/20\n",
            "375/375 [==============================] - 3s 4ms/step - loss: 0.3772 - accuracy: 0.8925 - val_loss: 0.1979 - val_accuracy: 0.9429\n",
            "Epoch 2/20\n",
            "375/375 [==============================] - 2s 4ms/step - loss: 0.1675 - accuracy: 0.9500 - val_loss: 0.1468 - val_accuracy: 0.9577\n",
            "Epoch 3/20\n",
            "375/375 [==============================] - 1s 3ms/step - loss: 0.1160 - accuracy: 0.9650 - val_loss: 0.1176 - val_accuracy: 0.9658\n",
            "Epoch 4/20\n",
            "375/375 [==============================] - 1s 3ms/step - loss: 0.0885 - accuracy: 0.9731 - val_loss: 0.1120 - val_accuracy: 0.9663\n",
            "Epoch 5/20\n",
            "375/375 [==============================] - 1s 3ms/step - loss: 0.0706 - accuracy: 0.9785 - val_loss: 0.0956 - val_accuracy: 0.9703\n",
            "Epoch 6/20\n",
            "375/375 [==============================] - 1s 4ms/step - loss: 0.0571 - accuracy: 0.9828 - val_loss: 0.1157 - val_accuracy: 0.9666\n",
            "Epoch 7/20\n",
            "375/375 [==============================] - 1s 3ms/step - loss: 0.0482 - accuracy: 0.9851 - val_loss: 0.0920 - val_accuracy: 0.9735\n",
            "Epoch 8/20\n",
            "375/375 [==============================] - 1s 3ms/step - loss: 0.0401 - accuracy: 0.9881 - val_loss: 0.0885 - val_accuracy: 0.9737\n",
            "Epoch 9/20\n",
            "375/375 [==============================] - 1s 3ms/step - loss: 0.0333 - accuracy: 0.9904 - val_loss: 0.0959 - val_accuracy: 0.9736\n",
            "Epoch 10/20\n",
            "375/375 [==============================] - 1s 3ms/step - loss: 0.0293 - accuracy: 0.9906 - val_loss: 0.0958 - val_accuracy: 0.9745\n",
            "Epoch 11/20\n",
            "375/375 [==============================] - 2s 5ms/step - loss: 0.0232 - accuracy: 0.9929 - val_loss: 0.1116 - val_accuracy: 0.9717\n",
            "Epoch 12/20\n",
            "375/375 [==============================] - 1s 4ms/step - loss: 0.0200 - accuracy: 0.9937 - val_loss: 0.0990 - val_accuracy: 0.9747\n",
            "Epoch 13/20\n",
            "375/375 [==============================] - 1s 3ms/step - loss: 0.0173 - accuracy: 0.9944 - val_loss: 0.1029 - val_accuracy: 0.9759\n",
            "Epoch 14/20\n",
            "375/375 [==============================] - 1s 4ms/step - loss: 0.0150 - accuracy: 0.9952 - val_loss: 0.1131 - val_accuracy: 0.9747\n",
            "Epoch 15/20\n",
            "375/375 [==============================] - 1s 3ms/step - loss: 0.0124 - accuracy: 0.9962 - val_loss: 0.1204 - val_accuracy: 0.9748\n",
            "Epoch 16/20\n",
            "375/375 [==============================] - 1s 3ms/step - loss: 0.0103 - accuracy: 0.9969 - val_loss: 0.1180 - val_accuracy: 0.9760\n",
            "Epoch 17/20\n",
            "375/375 [==============================] - 1s 4ms/step - loss: 0.0101 - accuracy: 0.9970 - val_loss: 0.1277 - val_accuracy: 0.9759\n",
            "Epoch 18/20\n",
            "375/375 [==============================] - 1s 4ms/step - loss: 0.0078 - accuracy: 0.9978 - val_loss: 0.1291 - val_accuracy: 0.9753\n",
            "Epoch 19/20\n",
            "375/375 [==============================] - 1s 3ms/step - loss: 0.0059 - accuracy: 0.9985 - val_loss: 0.1255 - val_accuracy: 0.9755\n",
            "Epoch 20/20\n",
            "375/375 [==============================] - 2s 4ms/step - loss: 0.0059 - accuracy: 0.9982 - val_loss: 0.1278 - val_accuracy: 0.9768\n"
          ]
        }
      ],
      "source": [
        "model = keras.Sequential([\n",
        "    layers.Dense(96, activation=\"relu\"),\n",
        "    layers.Dense(96, activation=\"relu\"),\n",
        "    layers.Dense(10, activation=\"softmax\"),\n",
        "])\n",
        "model.compile(optimizer=\"rmsprop\",\n",
        "              loss=\"sparse_categorical_crossentropy\",\n",
        "              metrics=[\"accuracy\"])\n",
        "history_large_model = model.fit(\n",
        "    train_images, train_labels,\n",
        "    epochs=20,\n",
        "    batch_size=128,\n",
        "    validation_split=0.2)"
      ]
    },
    {
      "cell_type": "markdown",
      "metadata": {
        "id": "UH3c_Xi3lHKV"
      },
      "source": [
        "## Improving generalization"
      ]
    },
    {
      "cell_type": "markdown",
      "metadata": {
        "id": "noDwW7gAlHKW"
      },
      "source": [
        "### Dataset curation"
      ]
    },
    {
      "cell_type": "markdown",
      "metadata": {
        "id": "nSehKl4vlHKW"
      },
      "source": [
        "### Feature engineering"
      ]
    },
    {
      "cell_type": "markdown",
      "metadata": {
        "id": "dLYq__3ElHKW"
      },
      "source": [
        "### Using early stopping"
      ]
    },
    {
      "cell_type": "markdown",
      "metadata": {
        "id": "vMDruj-zlHKX"
      },
      "source": [
        "### Regularizing your model"
      ]
    },
    {
      "cell_type": "markdown",
      "metadata": {
        "id": "GxaN6s1JlHKX"
      },
      "source": [
        "#### Reducing the network's size"
      ]
    },
    {
      "cell_type": "markdown",
      "metadata": {
        "id": "KS1tjiAhlHKX"
      },
      "source": [
        "**Original model**"
      ]
    },
    {
      "cell_type": "code",
      "execution_count": 10,
      "metadata": {
        "id": "0yqK0GyklHKY",
        "colab": {
          "base_uri": "https://localhost:8080/"
        },
        "outputId": "4826941c-752f-44aa-aca7-81952d1beddd"
      },
      "outputs": [
        {
          "output_type": "stream",
          "name": "stdout",
          "text": [
            "Downloading data from https://storage.googleapis.com/tensorflow/tf-keras-datasets/imdb.npz\n",
            "17464789/17464789 [==============================] - 2s 0us/step\n",
            "Epoch 1/20\n",
            "30/30 [==============================] - 4s 56ms/step - loss: 0.5464 - accuracy: 0.7796 - val_loss: 0.4305 - val_accuracy: 0.8421\n",
            "Epoch 2/20\n",
            "30/30 [==============================] - 1s 24ms/step - loss: 0.3482 - accuracy: 0.8905 - val_loss: 0.3263 - val_accuracy: 0.8826\n",
            "Epoch 3/20\n",
            "30/30 [==============================] - 1s 22ms/step - loss: 0.2631 - accuracy: 0.9122 - val_loss: 0.2933 - val_accuracy: 0.8887\n",
            "Epoch 4/20\n",
            "30/30 [==============================] - 1s 21ms/step - loss: 0.2144 - accuracy: 0.9275 - val_loss: 0.2778 - val_accuracy: 0.8896\n",
            "Epoch 5/20\n",
            "30/30 [==============================] - 1s 21ms/step - loss: 0.1790 - accuracy: 0.9422 - val_loss: 0.2963 - val_accuracy: 0.8797\n",
            "Epoch 6/20\n",
            "30/30 [==============================] - 1s 24ms/step - loss: 0.1545 - accuracy: 0.9504 - val_loss: 0.2780 - val_accuracy: 0.8898\n",
            "Epoch 7/20\n",
            "30/30 [==============================] - 1s 22ms/step - loss: 0.1324 - accuracy: 0.9582 - val_loss: 0.2863 - val_accuracy: 0.8890\n",
            "Epoch 8/20\n",
            "30/30 [==============================] - 1s 24ms/step - loss: 0.1173 - accuracy: 0.9643 - val_loss: 0.3160 - val_accuracy: 0.8817\n",
            "Epoch 9/20\n",
            "30/30 [==============================] - 1s 22ms/step - loss: 0.1010 - accuracy: 0.9710 - val_loss: 0.3248 - val_accuracy: 0.8822\n",
            "Epoch 10/20\n",
            "30/30 [==============================] - 1s 22ms/step - loss: 0.0861 - accuracy: 0.9765 - val_loss: 0.3573 - val_accuracy: 0.8762\n",
            "Epoch 11/20\n",
            "30/30 [==============================] - 1s 25ms/step - loss: 0.0782 - accuracy: 0.9789 - val_loss: 0.3444 - val_accuracy: 0.8808\n",
            "Epoch 12/20\n",
            "30/30 [==============================] - 1s 25ms/step - loss: 0.0673 - accuracy: 0.9825 - val_loss: 0.3644 - val_accuracy: 0.8778\n",
            "Epoch 13/20\n",
            "30/30 [==============================] - 1s 24ms/step - loss: 0.0592 - accuracy: 0.9853 - val_loss: 0.3843 - val_accuracy: 0.8761\n",
            "Epoch 14/20\n",
            "30/30 [==============================] - 1s 40ms/step - loss: 0.0510 - accuracy: 0.9885 - val_loss: 0.4026 - val_accuracy: 0.8764\n",
            "Epoch 15/20\n",
            "30/30 [==============================] - 1s 41ms/step - loss: 0.0435 - accuracy: 0.9915 - val_loss: 0.4266 - val_accuracy: 0.8744\n",
            "Epoch 16/20\n",
            "30/30 [==============================] - 1s 24ms/step - loss: 0.0389 - accuracy: 0.9918 - val_loss: 0.4463 - val_accuracy: 0.8744\n",
            "Epoch 17/20\n",
            "30/30 [==============================] - 1s 21ms/step - loss: 0.0321 - accuracy: 0.9948 - val_loss: 0.5678 - val_accuracy: 0.8524\n",
            "Epoch 18/20\n",
            "30/30 [==============================] - 1s 22ms/step - loss: 0.0316 - accuracy: 0.9933 - val_loss: 0.4849 - val_accuracy: 0.8705\n",
            "Epoch 19/20\n",
            "30/30 [==============================] - 1s 24ms/step - loss: 0.0243 - accuracy: 0.9961 - val_loss: 0.5099 - val_accuracy: 0.8701\n",
            "Epoch 20/20\n",
            "30/30 [==============================] - 1s 24ms/step - loss: 0.0223 - accuracy: 0.9965 - val_loss: 0.5311 - val_accuracy: 0.8708\n"
          ]
        }
      ],
      "source": [
        "from tensorflow.keras.datasets import imdb\n",
        "(train_data, train_labels), _ = imdb.load_data(num_words=10000)\n",
        "\n",
        "def vectorize_sequences(sequences, dimension=10000):\n",
        "    results = np.zeros((len(sequences), dimension))\n",
        "    for i, sequence in enumerate(sequences):\n",
        "        results[i, sequence] = 1.\n",
        "    return results\n",
        "train_data = vectorize_sequences(train_data)\n",
        "\n",
        "model = keras.Sequential([\n",
        "    layers.Dense(16, activation=\"relu\"),\n",
        "    layers.Dense(16, activation=\"relu\"),\n",
        "    layers.Dense(1, activation=\"sigmoid\")\n",
        "])\n",
        "model.compile(optimizer=\"rmsprop\",\n",
        "              loss=\"binary_crossentropy\",\n",
        "              metrics=[\"accuracy\"])\n",
        "history_original = model.fit(train_data, train_labels,\n",
        "                             epochs=20, batch_size=512, validation_split=0.4)"
      ]
    },
    {
      "cell_type": "markdown",
      "metadata": {
        "id": "RL-OK8aUlHKY"
      },
      "source": [
        "**Version of the model with lower capacity**"
      ]
    },
    {
      "cell_type": "code",
      "execution_count": 11,
      "metadata": {
        "id": "Yz_YPvxPlHKZ",
        "colab": {
          "base_uri": "https://localhost:8080/"
        },
        "outputId": "9c894fde-b801-42f9-84d8-c55a32c8401d"
      },
      "outputs": [
        {
          "output_type": "stream",
          "name": "stdout",
          "text": [
            "Epoch 1/20\n",
            "30/30 [==============================] - 3s 66ms/step - loss: 0.6395 - accuracy: 0.6910 - val_loss: 0.5623 - val_accuracy: 0.8375\n",
            "Epoch 2/20\n",
            "30/30 [==============================] - 1s 30ms/step - loss: 0.5071 - accuracy: 0.8599 - val_loss: 0.4691 - val_accuracy: 0.8606\n",
            "Epoch 3/20\n",
            "30/30 [==============================] - 1s 23ms/step - loss: 0.4174 - accuracy: 0.8838 - val_loss: 0.4025 - val_accuracy: 0.8725\n",
            "Epoch 4/20\n",
            "30/30 [==============================] - 1s 22ms/step - loss: 0.3485 - accuracy: 0.8996 - val_loss: 0.3566 - val_accuracy: 0.8759\n",
            "Epoch 5/20\n",
            "30/30 [==============================] - 1s 22ms/step - loss: 0.2969 - accuracy: 0.9103 - val_loss: 0.3215 - val_accuracy: 0.8847\n",
            "Epoch 6/20\n",
            "30/30 [==============================] - 1s 22ms/step - loss: 0.2581 - accuracy: 0.9212 - val_loss: 0.3046 - val_accuracy: 0.8837\n",
            "Epoch 7/20\n",
            "30/30 [==============================] - 1s 21ms/step - loss: 0.2278 - accuracy: 0.9283 - val_loss: 0.2891 - val_accuracy: 0.8896\n",
            "Epoch 8/20\n",
            "30/30 [==============================] - 1s 23ms/step - loss: 0.2033 - accuracy: 0.9358 - val_loss: 0.2788 - val_accuracy: 0.8900\n",
            "Epoch 9/20\n",
            "30/30 [==============================] - 1s 22ms/step - loss: 0.1827 - accuracy: 0.9426 - val_loss: 0.2742 - val_accuracy: 0.8914\n",
            "Epoch 10/20\n",
            "30/30 [==============================] - 1s 25ms/step - loss: 0.1658 - accuracy: 0.9468 - val_loss: 0.2793 - val_accuracy: 0.8870\n",
            "Epoch 11/20\n",
            "30/30 [==============================] - 1s 25ms/step - loss: 0.1511 - accuracy: 0.9527 - val_loss: 0.2864 - val_accuracy: 0.8853\n",
            "Epoch 12/20\n",
            "30/30 [==============================] - 1s 25ms/step - loss: 0.1381 - accuracy: 0.9577 - val_loss: 0.2864 - val_accuracy: 0.8840\n",
            "Epoch 13/20\n",
            "30/30 [==============================] - 1s 24ms/step - loss: 0.1271 - accuracy: 0.9608 - val_loss: 0.2865 - val_accuracy: 0.8864\n",
            "Epoch 14/20\n",
            "30/30 [==============================] - 1s 23ms/step - loss: 0.1162 - accuracy: 0.9660 - val_loss: 0.2882 - val_accuracy: 0.8863\n",
            "Epoch 15/20\n",
            "30/30 [==============================] - 1s 25ms/step - loss: 0.1070 - accuracy: 0.9686 - val_loss: 0.2961 - val_accuracy: 0.8866\n",
            "Epoch 16/20\n",
            "30/30 [==============================] - 1s 22ms/step - loss: 0.0986 - accuracy: 0.9724 - val_loss: 0.3099 - val_accuracy: 0.8812\n",
            "Epoch 17/20\n",
            "30/30 [==============================] - 1s 31ms/step - loss: 0.0903 - accuracy: 0.9749 - val_loss: 0.3174 - val_accuracy: 0.8851\n",
            "Epoch 18/20\n",
            "30/30 [==============================] - 1s 32ms/step - loss: 0.0826 - accuracy: 0.9783 - val_loss: 0.3231 - val_accuracy: 0.8846\n",
            "Epoch 19/20\n",
            "30/30 [==============================] - 1s 27ms/step - loss: 0.0760 - accuracy: 0.9809 - val_loss: 0.3377 - val_accuracy: 0.8795\n",
            "Epoch 20/20\n",
            "30/30 [==============================] - 1s 24ms/step - loss: 0.0694 - accuracy: 0.9831 - val_loss: 0.3466 - val_accuracy: 0.8839\n"
          ]
        }
      ],
      "source": [
        "model = keras.Sequential([\n",
        "    layers.Dense(4, activation=\"relu\"),\n",
        "    layers.Dense(4, activation=\"relu\"),\n",
        "    layers.Dense(1, activation=\"sigmoid\")\n",
        "])\n",
        "model.compile(optimizer=\"rmsprop\",\n",
        "              loss=\"binary_crossentropy\",\n",
        "              metrics=[\"accuracy\"])\n",
        "history_smaller_model = model.fit(\n",
        "    train_data, train_labels,\n",
        "    epochs=20, batch_size=512, validation_split=0.4)"
      ]
    },
    {
      "cell_type": "markdown",
      "metadata": {
        "id": "-du6pBEFlHKZ"
      },
      "source": [
        "**Version of the model with higher capacity**"
      ]
    },
    {
      "cell_type": "code",
      "execution_count": 12,
      "metadata": {
        "id": "x_jZ9RlFlHKZ",
        "colab": {
          "base_uri": "https://localhost:8080/"
        },
        "outputId": "8eb0db45-3cd3-407c-8235-e0bc682cf5c7"
      },
      "outputs": [
        {
          "output_type": "stream",
          "name": "stdout",
          "text": [
            "Epoch 1/20\n",
            "30/30 [==============================] - 3s 59ms/step - loss: 0.5679 - accuracy: 0.7224 - val_loss: 0.3398 - val_accuracy: 0.8706\n",
            "Epoch 2/20\n",
            "30/30 [==============================] - 1s 26ms/step - loss: 0.3145 - accuracy: 0.8727 - val_loss: 0.3019 - val_accuracy: 0.8733\n",
            "Epoch 3/20\n",
            "30/30 [==============================] - 1s 35ms/step - loss: 0.2539 - accuracy: 0.8994 - val_loss: 0.2780 - val_accuracy: 0.8866\n",
            "Epoch 4/20\n",
            "30/30 [==============================] - 1s 35ms/step - loss: 0.1832 - accuracy: 0.9297 - val_loss: 0.3134 - val_accuracy: 0.8701\n",
            "Epoch 5/20\n",
            "30/30 [==============================] - 1s 28ms/step - loss: 0.1295 - accuracy: 0.9546 - val_loss: 0.3080 - val_accuracy: 0.8856\n",
            "Epoch 6/20\n",
            "30/30 [==============================] - 1s 26ms/step - loss: 0.1194 - accuracy: 0.9586 - val_loss: 0.6619 - val_accuracy: 0.7967\n",
            "Epoch 7/20\n",
            "30/30 [==============================] - 1s 26ms/step - loss: 0.0964 - accuracy: 0.9669 - val_loss: 0.3122 - val_accuracy: 0.8853\n",
            "Epoch 8/20\n",
            "30/30 [==============================] - 1s 25ms/step - loss: 0.0723 - accuracy: 0.9781 - val_loss: 0.3047 - val_accuracy: 0.8839\n",
            "Epoch 9/20\n",
            "30/30 [==============================] - 1s 27ms/step - loss: 0.0180 - accuracy: 0.9981 - val_loss: 0.4409 - val_accuracy: 0.8834\n",
            "Epoch 10/20\n",
            "30/30 [==============================] - 1s 26ms/step - loss: 0.0757 - accuracy: 0.9828 - val_loss: 0.3887 - val_accuracy: 0.8847\n",
            "Epoch 11/20\n",
            "30/30 [==============================] - 1s 26ms/step - loss: 0.0066 - accuracy: 0.9995 - val_loss: 0.4847 - val_accuracy: 0.8839\n",
            "Epoch 12/20\n",
            "30/30 [==============================] - 1s 26ms/step - loss: 0.0033 - accuracy: 0.9998 - val_loss: 1.4698 - val_accuracy: 0.7677\n",
            "Epoch 13/20\n",
            "30/30 [==============================] - 1s 27ms/step - loss: 0.0864 - accuracy: 0.9812 - val_loss: 0.4744 - val_accuracy: 0.8847\n",
            "Epoch 14/20\n",
            "30/30 [==============================] - 1s 27ms/step - loss: 0.0020 - accuracy: 1.0000 - val_loss: 0.5510 - val_accuracy: 0.8848\n",
            "Epoch 15/20\n",
            "30/30 [==============================] - 1s 26ms/step - loss: 0.0041 - accuracy: 0.9991 - val_loss: 1.8633 - val_accuracy: 0.7268\n",
            "Epoch 16/20\n",
            "30/30 [==============================] - 1s 26ms/step - loss: 0.0597 - accuracy: 0.9869 - val_loss: 0.5101 - val_accuracy: 0.8854\n",
            "Epoch 17/20\n",
            "30/30 [==============================] - 1s 27ms/step - loss: 0.0012 - accuracy: 1.0000 - val_loss: 0.5863 - val_accuracy: 0.8850\n",
            "Epoch 18/20\n",
            "30/30 [==============================] - 1s 36ms/step - loss: 6.6162e-04 - accuracy: 1.0000 - val_loss: 0.6411 - val_accuracy: 0.8851\n",
            "Epoch 19/20\n",
            "30/30 [==============================] - 1s 35ms/step - loss: 4.2645e-04 - accuracy: 1.0000 - val_loss: 0.6801 - val_accuracy: 0.8850\n",
            "Epoch 20/20\n",
            "30/30 [==============================] - 1s 29ms/step - loss: 3.0122e-04 - accuracy: 1.0000 - val_loss: 0.7051 - val_accuracy: 0.8857\n"
          ]
        }
      ],
      "source": [
        "model = keras.Sequential([\n",
        "    layers.Dense(512, activation=\"relu\"),\n",
        "    layers.Dense(512, activation=\"relu\"),\n",
        "    layers.Dense(1, activation=\"sigmoid\")\n",
        "])\n",
        "model.compile(optimizer=\"rmsprop\",\n",
        "              loss=\"binary_crossentropy\",\n",
        "              metrics=[\"accuracy\"])\n",
        "history_larger_model = model.fit(\n",
        "    train_data, train_labels,\n",
        "    epochs=20, batch_size=512, validation_split=0.4)"
      ]
    },
    {
      "cell_type": "markdown",
      "metadata": {
        "id": "R96qHYoUlHKa"
      },
      "source": [
        "#### Adding weight regularization"
      ]
    },
    {
      "cell_type": "markdown",
      "metadata": {
        "id": "L2hfkaP6lHKa"
      },
      "source": [
        "**Adding L2 weight regularization to the model**"
      ]
    },
    {
      "cell_type": "code",
      "execution_count": 13,
      "metadata": {
        "id": "W4HW_UYPlHKa",
        "colab": {
          "base_uri": "https://localhost:8080/"
        },
        "outputId": "b00935b8-3d77-4ad6-f173-435c887c30a3"
      },
      "outputs": [
        {
          "output_type": "stream",
          "name": "stdout",
          "text": [
            "Epoch 1/20\n",
            "30/30 [==============================] - 3s 55ms/step - loss: 0.6233 - accuracy: 0.7777 - val_loss: 0.5416 - val_accuracy: 0.8228\n",
            "Epoch 2/20\n",
            "30/30 [==============================] - 1s 22ms/step - loss: 0.4268 - accuracy: 0.8865 - val_loss: 0.4063 - val_accuracy: 0.8799\n",
            "Epoch 3/20\n",
            "30/30 [==============================] - 1s 21ms/step - loss: 0.3454 - accuracy: 0.9127 - val_loss: 0.3727 - val_accuracy: 0.8871\n",
            "Epoch 4/20\n",
            "30/30 [==============================] - 1s 23ms/step - loss: 0.3075 - accuracy: 0.9217 - val_loss: 0.3638 - val_accuracy: 0.8869\n",
            "Epoch 5/20\n",
            "30/30 [==============================] - 1s 24ms/step - loss: 0.2842 - accuracy: 0.9293 - val_loss: 0.3639 - val_accuracy: 0.8854\n",
            "Epoch 6/20\n",
            "30/30 [==============================] - 1s 26ms/step - loss: 0.2701 - accuracy: 0.9358 - val_loss: 0.3697 - val_accuracy: 0.8809\n",
            "Epoch 7/20\n",
            "30/30 [==============================] - 1s 27ms/step - loss: 0.2568 - accuracy: 0.9401 - val_loss: 0.3698 - val_accuracy: 0.8813\n",
            "Epoch 8/20\n",
            "30/30 [==============================] - 1s 39ms/step - loss: 0.2454 - accuracy: 0.9463 - val_loss: 0.3643 - val_accuracy: 0.8840\n",
            "Epoch 9/20\n",
            "30/30 [==============================] - 1s 21ms/step - loss: 0.2409 - accuracy: 0.9487 - val_loss: 0.3709 - val_accuracy: 0.8827\n",
            "Epoch 10/20\n",
            "30/30 [==============================] - 1s 25ms/step - loss: 0.2360 - accuracy: 0.9491 - val_loss: 0.4317 - val_accuracy: 0.8654\n",
            "Epoch 11/20\n",
            "30/30 [==============================] - 1s 22ms/step - loss: 0.2278 - accuracy: 0.9522 - val_loss: 0.3787 - val_accuracy: 0.8803\n",
            "Epoch 12/20\n",
            "30/30 [==============================] - 1s 24ms/step - loss: 0.2256 - accuracy: 0.9533 - val_loss: 0.3807 - val_accuracy: 0.8813\n",
            "Epoch 13/20\n",
            "30/30 [==============================] - 1s 23ms/step - loss: 0.2197 - accuracy: 0.9535 - val_loss: 0.3868 - val_accuracy: 0.8790\n",
            "Epoch 14/20\n",
            "30/30 [==============================] - 1s 23ms/step - loss: 0.2188 - accuracy: 0.9545 - val_loss: 0.4008 - val_accuracy: 0.8733\n",
            "Epoch 15/20\n",
            "30/30 [==============================] - 1s 24ms/step - loss: 0.2205 - accuracy: 0.9533 - val_loss: 0.4175 - val_accuracy: 0.8730\n",
            "Epoch 16/20\n",
            "30/30 [==============================] - 1s 23ms/step - loss: 0.2105 - accuracy: 0.9578 - val_loss: 0.4066 - val_accuracy: 0.8747\n",
            "Epoch 17/20\n",
            "30/30 [==============================] - 1s 22ms/step - loss: 0.2085 - accuracy: 0.9593 - val_loss: 0.3982 - val_accuracy: 0.8790\n",
            "Epoch 18/20\n",
            "30/30 [==============================] - 1s 24ms/step - loss: 0.2104 - accuracy: 0.9586 - val_loss: 0.4113 - val_accuracy: 0.8741\n",
            "Epoch 19/20\n",
            "30/30 [==============================] - 1s 25ms/step - loss: 0.2007 - accuracy: 0.9639 - val_loss: 0.4052 - val_accuracy: 0.8778\n",
            "Epoch 20/20\n",
            "30/30 [==============================] - 1s 24ms/step - loss: 0.2052 - accuracy: 0.9604 - val_loss: 0.4618 - val_accuracy: 0.8663\n"
          ]
        }
      ],
      "source": [
        "from tensorflow.keras import regularizers\n",
        "model = keras.Sequential([\n",
        "    layers.Dense(16,\n",
        "                 kernel_regularizer=regularizers.l2(0.002),\n",
        "                 activation=\"relu\"),\n",
        "    layers.Dense(16,\n",
        "                 kernel_regularizer=regularizers.l2(0.002),\n",
        "                 activation=\"relu\"),\n",
        "    layers.Dense(1, activation=\"sigmoid\")\n",
        "])\n",
        "model.compile(optimizer=\"rmsprop\",\n",
        "              loss=\"binary_crossentropy\",\n",
        "              metrics=[\"accuracy\"])\n",
        "history_l2_reg = model.fit(\n",
        "    train_data, train_labels,\n",
        "    epochs=20, batch_size=512, validation_split=0.4)"
      ]
    },
    {
      "cell_type": "markdown",
      "metadata": {
        "id": "F9MzGh2zlHKb"
      },
      "source": [
        "**Different weight regularizers available in Keras**"
      ]
    },
    {
      "cell_type": "code",
      "execution_count": null,
      "metadata": {
        "id": "YKhxtGoLlHKb"
      },
      "outputs": [],
      "source": [
        "from tensorflow.keras import regularizers\n",
        "regularizers.l1(0.001)\n",
        "regularizers.l1_l2(l1=0.001, l2=0.001)"
      ]
    },
    {
      "cell_type": "markdown",
      "metadata": {
        "id": "xSvwD5iolHKb"
      },
      "source": [
        "#### Adding dropout"
      ]
    },
    {
      "cell_type": "markdown",
      "metadata": {
        "id": "0CjwVyz8lHKb"
      },
      "source": [
        "**Adding dropout to the IMDB model**"
      ]
    },
    {
      "cell_type": "code",
      "execution_count": 14,
      "metadata": {
        "id": "HW87eP4zlHKc",
        "colab": {
          "base_uri": "https://localhost:8080/"
        },
        "outputId": "3a4d8e67-514f-4704-b0c4-1b05d7589f5f"
      },
      "outputs": [
        {
          "output_type": "stream",
          "name": "stdout",
          "text": [
            "Epoch 1/20\n",
            "30/30 [==============================] - 3s 56ms/step - loss: 0.6528 - accuracy: 0.6009 - val_loss: 0.5498 - val_accuracy: 0.8172\n",
            "Epoch 2/20\n",
            "30/30 [==============================] - 1s 23ms/step - loss: 0.5384 - accuracy: 0.7333 - val_loss: 0.4275 - val_accuracy: 0.8657\n",
            "Epoch 3/20\n",
            "30/30 [==============================] - 1s 23ms/step - loss: 0.4490 - accuracy: 0.8046 - val_loss: 0.3496 - val_accuracy: 0.8776\n",
            "Epoch 4/20\n",
            "30/30 [==============================] - 1s 25ms/step - loss: 0.3879 - accuracy: 0.8386 - val_loss: 0.3263 - val_accuracy: 0.8740\n",
            "Epoch 5/20\n",
            "30/30 [==============================] - 1s 26ms/step - loss: 0.3361 - accuracy: 0.8656 - val_loss: 0.2923 - val_accuracy: 0.8847\n",
            "Epoch 6/20\n",
            "30/30 [==============================] - 1s 25ms/step - loss: 0.2972 - accuracy: 0.8893 - val_loss: 0.2785 - val_accuracy: 0.8870\n",
            "Epoch 7/20\n",
            "30/30 [==============================] - 1s 23ms/step - loss: 0.2570 - accuracy: 0.9055 - val_loss: 0.2758 - val_accuracy: 0.8906\n",
            "Epoch 8/20\n",
            "30/30 [==============================] - 1s 29ms/step - loss: 0.2319 - accuracy: 0.9181 - val_loss: 0.2778 - val_accuracy: 0.8915\n",
            "Epoch 9/20\n",
            "30/30 [==============================] - 1s 40ms/step - loss: 0.2051 - accuracy: 0.9315 - val_loss: 0.2948 - val_accuracy: 0.8902\n",
            "Epoch 10/20\n",
            "30/30 [==============================] - 1s 24ms/step - loss: 0.1863 - accuracy: 0.9393 - val_loss: 0.3124 - val_accuracy: 0.8842\n",
            "Epoch 11/20\n",
            "30/30 [==============================] - 1s 25ms/step - loss: 0.1654 - accuracy: 0.9447 - val_loss: 0.3346 - val_accuracy: 0.8885\n",
            "Epoch 12/20\n",
            "30/30 [==============================] - 1s 23ms/step - loss: 0.1500 - accuracy: 0.9517 - val_loss: 0.3288 - val_accuracy: 0.8859\n",
            "Epoch 13/20\n",
            "30/30 [==============================] - 1s 22ms/step - loss: 0.1376 - accuracy: 0.9547 - val_loss: 0.3487 - val_accuracy: 0.8862\n",
            "Epoch 14/20\n",
            "30/30 [==============================] - 1s 26ms/step - loss: 0.1242 - accuracy: 0.9583 - val_loss: 0.3851 - val_accuracy: 0.8819\n",
            "Epoch 15/20\n",
            "30/30 [==============================] - 1s 25ms/step - loss: 0.1160 - accuracy: 0.9616 - val_loss: 0.4168 - val_accuracy: 0.8856\n",
            "Epoch 16/20\n",
            "30/30 [==============================] - 1s 21ms/step - loss: 0.1043 - accuracy: 0.9649 - val_loss: 0.4234 - val_accuracy: 0.8849\n",
            "Epoch 17/20\n",
            "30/30 [==============================] - 1s 25ms/step - loss: 0.1009 - accuracy: 0.9663 - val_loss: 0.4715 - val_accuracy: 0.8865\n",
            "Epoch 18/20\n",
            "30/30 [==============================] - 1s 24ms/step - loss: 0.0869 - accuracy: 0.9707 - val_loss: 0.5046 - val_accuracy: 0.8833\n",
            "Epoch 19/20\n",
            "30/30 [==============================] - 1s 22ms/step - loss: 0.0891 - accuracy: 0.9706 - val_loss: 0.5054 - val_accuracy: 0.8850\n",
            "Epoch 20/20\n",
            "30/30 [==============================] - 1s 22ms/step - loss: 0.0816 - accuracy: 0.9732 - val_loss: 0.5259 - val_accuracy: 0.8848\n"
          ]
        }
      ],
      "source": [
        "model = keras.Sequential([\n",
        "    layers.Dense(16, activation=\"relu\"),\n",
        "    layers.Dropout(0.5),\n",
        "    layers.Dense(16, activation=\"relu\"),\n",
        "    layers.Dropout(0.5),\n",
        "    layers.Dense(1, activation=\"sigmoid\")\n",
        "])\n",
        "model.compile(optimizer=\"rmsprop\",\n",
        "              loss=\"binary_crossentropy\",\n",
        "              metrics=[\"accuracy\"])\n",
        "history_dropout = model.fit(\n",
        "    train_data, train_labels,\n",
        "    epochs=20, batch_size=512, validation_split=0.4)"
      ]
    },
    {
      "cell_type": "markdown",
      "metadata": {
        "id": "AQ2VscPalHKc"
      },
      "source": [
        "## Summary"
      ]
    }
  ],
  "metadata": {
    "colab": {
      "provenance": [],
      "gpuType": "T4",
      "toc_visible": true,
      "include_colab_link": true
    },
    "kernelspec": {
      "display_name": "Python 3",
      "language": "python",
      "name": "python3"
    },
    "language_info": {
      "codemirror_mode": {
        "name": "ipython",
        "version": 3
      },
      "file_extension": ".py",
      "mimetype": "text/x-python",
      "name": "python",
      "nbconvert_exporter": "python",
      "pygments_lexer": "ipython3",
      "version": "3.7.0"
    },
    "accelerator": "GPU",
    "gpuClass": "standard"
  },
  "nbformat": 4,
  "nbformat_minor": 0
}